{
 "cells": [
  {
   "cell_type": "code",
   "execution_count": 1,
   "metadata": {},
   "outputs": [],
   "source": [
    "\n",
    "from transformers import AutoModelForCausalLM, AutoTokenizer\n",
    "import torch\n",
    "import vllm\n",
    "from vllm import LLM, SamplingParams\n"
   ]
  },
  {
   "cell_type": "code",
   "execution_count": 2,
   "metadata": {},
   "outputs": [],
   "source": [
    "\n",
    "model_name_or_path = \"google/gemma-7b\"\n",
    "dtype = \"half\"\n",
    "world_size = 1"
   ]
  },
  {
   "cell_type": "code",
   "execution_count": 3,
   "metadata": {},
   "outputs": [
    {
     "name": "stdout",
     "output_type": "stream",
     "text": [
      "WARNING 11-14 07:58:27 config.py:618] Casting torch.bfloat16 to torch.float16.\n",
      "INFO 11-14 07:58:27 llm_engine.py:87] Initializing an LLM engine with config: model='google/gemma-7b', tokenizer='google/gemma-7b', tokenizer_mode=auto, revision=None, tokenizer_revision=None, trust_remote_code=False, dtype=torch.float16, max_seq_len=8192, download_dir=None, load_format=auto, tensor_parallel_size=1, disable_custom_all_reduce=False, quantization=None, enforce_eager=False, kv_cache_dtype=auto, device_config=cuda, seed=0)\n",
      "INFO 11-14 07:58:41 weight_utils.py:163] Using model weights format ['*.safetensors']\n",
      "INFO 11-14 08:01:30 llm_engine.py:357] # GPU blocks: 3516, # CPU blocks: 585\n",
      "INFO 11-14 08:01:33 model_runner.py:684] Capturing the model for CUDA graphs. This may lead to unexpected consequences if the model is not static. To run the model in eager mode, set 'enforce_eager=True' or use '--enforce-eager' in the CLI.\n",
      "INFO 11-14 08:01:33 model_runner.py:688] CUDA graphs can take additional 1~3 GiB memory per GPU. If you are running out of memory, consider decreasing `gpu_memory_utilization` or enforcing eager mode. You can also reduce the `max_num_seqs` as needed to decrease memory usage.\n",
      "INFO 11-14 08:01:40 model_runner.py:756] Graph capturing finished in 7 secs.\n"
     ]
    }
   ],
   "source": [
    "model = LLM(model=model_name_or_path,\n",
    "                    dtype=dtype, tensor_parallel_size=world_size,)\n",
    "tokenizer = AutoTokenizer.from_pretrained(model_name_or_path, padding_side=\"left\")"
   ]
  },
  {
   "cell_type": "code",
   "execution_count": 4,
   "metadata": {},
   "outputs": [],
   "source": [
    "query = \"How much does it cost to build a subdivision of houses on a large plot of land?\""
   ]
  },
  {
   "cell_type": "code",
   "execution_count": 6,
   "metadata": {},
   "outputs": [
    {
     "name": "stderr",
     "output_type": "stream",
     "text": [
      "Processed prompts: 100%|██████████| 1/1 [00:15<00:00, 15.19s/it]\n"
     ]
    }
   ],
   "source": [
    "sampling_params = SamplingParams(temperature=0.0, top_p=1.0, max_tokens=512)\n",
    "preds = model.generate([query], sampling_params)\n",
    "pred = preds[0].outputs[0].text.strip()"
   ]
  },
  {
   "cell_type": "code",
   "execution_count": 7,
   "metadata": {},
   "outputs": [
    {
     "name": "stdout",
     "output_type": "stream",
     "text": [
      "pred:\n",
      "----------------------------------\n",
      " The answer is: it depends.\n",
      "\n",
      "The cost of building a subdivision of houses depends on a number of factors, including the size and location of the land, the type of houses being built, the materials used, and the labor costs.\n",
      "\n",
      "In general, the cost of building a subdivision of houses can range from $100,000 to $1 million or more.\n",
      "\n",
      "<h2>What is a Subdivision of Houses?</h2>\n",
      "\n",
      "A subdivision of houses is a group of houses that have been divided into smaller units.\n",
      "\n",
      "This can be done for a variety of reasons, such as to create more affordable housing options or to increase the number of homes available for sale.\n",
      "\n",
      "Subdivisions can be created by dividing an existing house into smaller units, or by building new houses on a plot of land.\n",
      "\n",
      "<h2>How Much Does it Cost to Build a Subdivision of Houses?</h2>\n",
      "\n",
      "The cost of building a subdivision of houses can vary depending on the size and location of the subdivision, as well as the type of houses being built.\n",
      "\n",
      "In general, the cost of building a subdivision of houses can range from $100,000 to $1 million or more.\n",
      "\n",
      "<h2>Factors that Affect the Cost of Building a Subdivision of Houses</h2>\n",
      "\n",
      "There are a number of factors that can affect the cost of building a subdivision of houses.\n",
      "\n",
      "Some of the most important factors include:\n",
      "\n",
      "<h3>1. The Size of the Subdivision</h3>\n",
      "\n",
      "The size of the subdivision will have a big impact on the cost of building it.\n",
      "\n",
      "A larger subdivision will require more materials and labor, which will increase the overall cost.\n",
      "\n",
      "<h3>2. The Type of Houses Being Built</h3>\n",
      "\n",
      "The type of houses being built will also affect the cost of the subdivision.\n",
      "\n",
      "For example, if the subdivision is being built with luxury homes, the cost will be higher than if it is being built with more affordable homes.\n",
      "\n",
      "<h3>3. The Location of the Subdivision</h3>\n",
      "\n",
      "The location of the subdivision can also affect the cost.\n",
      "\n",
      "If the subdivision is being built in an area with high land prices, the cost will be higher than if it is being built in an area with lower land prices.\n",
      "\n",
      "<h3>4. The Materials Used</h3>\n",
      "\n",
      "The materials used to build the subdivision will also affect the cost.\n",
      "\n",
      "If the subdivision is being built with high-quality materials, the cost will be higher than if it is being built with lower-quality materials.\n",
      "\n",
      "<h3>5. The Labor Costs</h3>\n",
      "\n",
      "The labor costs associated with building the subdivision will also affect\n"
     ]
    }
   ],
   "source": [
    "print(\"pred:\\n----------------------------------\\n\" ,pred)"
   ]
  }
 ],
 "metadata": {
  "kernelspec": {
   "display_name": "myenv",
   "language": "python",
   "name": "myenv"
  },
  "language_info": {
   "codemirror_mode": {
    "name": "ipython",
    "version": 3
   },
   "file_extension": ".py",
   "mimetype": "text/x-python",
   "name": "python",
   "nbconvert_exporter": "python",
   "pygments_lexer": "ipython3",
   "version": "3.10.14"
  }
 },
 "nbformat": 4,
 "nbformat_minor": 2
}
